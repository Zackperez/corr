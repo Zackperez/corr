{
  "cells": [
    {
      "cell_type": "markdown",
      "metadata": {
        "id": "view-in-github",
        "colab_type": "text"
      },
      "source": [
        "<a href=\"https://colab.research.google.com/github/Zackperez/corr/blob/main/regresion_l_simple_ul_funcional_bosques.ipynb\" target=\"_parent\"><img src=\"https://colab.research.google.com/assets/colab-badge.svg\" alt=\"Open In Colab\"/></a>"
      ]
    },
    {
      "cell_type": "code",
      "execution_count": 77,
      "metadata": {
        "colab": {
          "base_uri": "https://localhost:8080/",
          "height": 332
        },
        "id": "gV1IM3s-wvCd",
        "outputId": "24cb1cd9-f1f8-4796-e00b-1f8c49d20f5d"
      },
      "outputs": [
        {
          "output_type": "execute_result",
          "data": {
            "text/plain": [
              "   NU_order  Urgent_order  Order_type_B   Target\n",
              "1   316.307       223.270       175.586  539.577\n",
              "1   128.633        96.042        56.037  224.675\n",
              "1    43.651        84.375        25.125  129.412\n",
              "2   171.297       127.667       113.294  317.120\n",
              "2    90.532       113.526        56.618  210.517\n",
              "2   110.925        96.360        50.704  207.364\n",
              "2   144.124       118.919        66.371  263.043\n",
              "2   119.379       113.870        85.961  248.958\n",
              "3   218.856       124.381       148.274  344.291"
            ],
            "text/html": [
              "\n",
              "  <div id=\"df-2ceeca05-4427-4532-8b15-275f08b4fe50\">\n",
              "    <div class=\"colab-df-container\">\n",
              "      <div>\n",
              "<style scoped>\n",
              "    .dataframe tbody tr th:only-of-type {\n",
              "        vertical-align: middle;\n",
              "    }\n",
              "\n",
              "    .dataframe tbody tr th {\n",
              "        vertical-align: top;\n",
              "    }\n",
              "\n",
              "    .dataframe thead th {\n",
              "        text-align: right;\n",
              "    }\n",
              "</style>\n",
              "<table border=\"1\" class=\"dataframe\">\n",
              "  <thead>\n",
              "    <tr style=\"text-align: right;\">\n",
              "      <th></th>\n",
              "      <th>NU_order</th>\n",
              "      <th>Urgent_order</th>\n",
              "      <th>Order_type_B</th>\n",
              "      <th>Target</th>\n",
              "    </tr>\n",
              "  </thead>\n",
              "  <tbody>\n",
              "    <tr>\n",
              "      <th>1</th>\n",
              "      <td>316.307</td>\n",
              "      <td>223.270</td>\n",
              "      <td>175.586</td>\n",
              "      <td>539.577</td>\n",
              "    </tr>\n",
              "    <tr>\n",
              "      <th>1</th>\n",
              "      <td>128.633</td>\n",
              "      <td>96.042</td>\n",
              "      <td>56.037</td>\n",
              "      <td>224.675</td>\n",
              "    </tr>\n",
              "    <tr>\n",
              "      <th>1</th>\n",
              "      <td>43.651</td>\n",
              "      <td>84.375</td>\n",
              "      <td>25.125</td>\n",
              "      <td>129.412</td>\n",
              "    </tr>\n",
              "    <tr>\n",
              "      <th>2</th>\n",
              "      <td>171.297</td>\n",
              "      <td>127.667</td>\n",
              "      <td>113.294</td>\n",
              "      <td>317.120</td>\n",
              "    </tr>\n",
              "    <tr>\n",
              "      <th>2</th>\n",
              "      <td>90.532</td>\n",
              "      <td>113.526</td>\n",
              "      <td>56.618</td>\n",
              "      <td>210.517</td>\n",
              "    </tr>\n",
              "    <tr>\n",
              "      <th>2</th>\n",
              "      <td>110.925</td>\n",
              "      <td>96.360</td>\n",
              "      <td>50.704</td>\n",
              "      <td>207.364</td>\n",
              "    </tr>\n",
              "    <tr>\n",
              "      <th>2</th>\n",
              "      <td>144.124</td>\n",
              "      <td>118.919</td>\n",
              "      <td>66.371</td>\n",
              "      <td>263.043</td>\n",
              "    </tr>\n",
              "    <tr>\n",
              "      <th>2</th>\n",
              "      <td>119.379</td>\n",
              "      <td>113.870</td>\n",
              "      <td>85.961</td>\n",
              "      <td>248.958</td>\n",
              "    </tr>\n",
              "    <tr>\n",
              "      <th>3</th>\n",
              "      <td>218.856</td>\n",
              "      <td>124.381</td>\n",
              "      <td>148.274</td>\n",
              "      <td>344.291</td>\n",
              "    </tr>\n",
              "  </tbody>\n",
              "</table>\n",
              "</div>\n",
              "      <button class=\"colab-df-convert\" onclick=\"convertToInteractive('df-2ceeca05-4427-4532-8b15-275f08b4fe50')\"\n",
              "              title=\"Convert this dataframe to an interactive table.\"\n",
              "              style=\"display:none;\">\n",
              "        \n",
              "  <svg xmlns=\"http://www.w3.org/2000/svg\" height=\"24px\"viewBox=\"0 0 24 24\"\n",
              "       width=\"24px\">\n",
              "    <path d=\"M0 0h24v24H0V0z\" fill=\"none\"/>\n",
              "    <path d=\"M18.56 5.44l.94 2.06.94-2.06 2.06-.94-2.06-.94-.94-2.06-.94 2.06-2.06.94zm-11 1L8.5 8.5l.94-2.06 2.06-.94-2.06-.94L8.5 2.5l-.94 2.06-2.06.94zm10 10l.94 2.06.94-2.06 2.06-.94-2.06-.94-.94-2.06-.94 2.06-2.06.94z\"/><path d=\"M17.41 7.96l-1.37-1.37c-.4-.4-.92-.59-1.43-.59-.52 0-1.04.2-1.43.59L10.3 9.45l-7.72 7.72c-.78.78-.78 2.05 0 2.83L4 21.41c.39.39.9.59 1.41.59.51 0 1.02-.2 1.41-.59l7.78-7.78 2.81-2.81c.8-.78.8-2.07 0-2.86zM5.41 20L4 18.59l7.72-7.72 1.47 1.35L5.41 20z\"/>\n",
              "  </svg>\n",
              "      </button>\n",
              "      \n",
              "  <style>\n",
              "    .colab-df-container {\n",
              "      display:flex;\n",
              "      flex-wrap:wrap;\n",
              "      gap: 12px;\n",
              "    }\n",
              "\n",
              "    .colab-df-convert {\n",
              "      background-color: #E8F0FE;\n",
              "      border: none;\n",
              "      border-radius: 50%;\n",
              "      cursor: pointer;\n",
              "      display: none;\n",
              "      fill: #1967D2;\n",
              "      height: 32px;\n",
              "      padding: 0 0 0 0;\n",
              "      width: 32px;\n",
              "    }\n",
              "\n",
              "    .colab-df-convert:hover {\n",
              "      background-color: #E2EBFA;\n",
              "      box-shadow: 0px 1px 2px rgba(60, 64, 67, 0.3), 0px 1px 3px 1px rgba(60, 64, 67, 0.15);\n",
              "      fill: #174EA6;\n",
              "    }\n",
              "\n",
              "    [theme=dark] .colab-df-convert {\n",
              "      background-color: #3B4455;\n",
              "      fill: #D2E3FC;\n",
              "    }\n",
              "\n",
              "    [theme=dark] .colab-df-convert:hover {\n",
              "      background-color: #434B5C;\n",
              "      box-shadow: 0px 1px 3px 1px rgba(0, 0, 0, 0.15);\n",
              "      filter: drop-shadow(0px 1px 2px rgba(0, 0, 0, 0.3));\n",
              "      fill: #FFFFFF;\n",
              "    }\n",
              "  </style>\n",
              "\n",
              "      <script>\n",
              "        const buttonEl =\n",
              "          document.querySelector('#df-2ceeca05-4427-4532-8b15-275f08b4fe50 button.colab-df-convert');\n",
              "        buttonEl.style.display =\n",
              "          google.colab.kernel.accessAllowed ? 'block' : 'none';\n",
              "\n",
              "        async function convertToInteractive(key) {\n",
              "          const element = document.querySelector('#df-2ceeca05-4427-4532-8b15-275f08b4fe50');\n",
              "          const dataTable =\n",
              "            await google.colab.kernel.invokeFunction('convertToInteractive',\n",
              "                                                     [key], {});\n",
              "          if (!dataTable) return;\n",
              "\n",
              "          const docLinkHtml = 'Like what you see? Visit the ' +\n",
              "            '<a target=\"_blank\" href=https://colab.research.google.com/notebooks/data_table.ipynb>data table notebook</a>'\n",
              "            + ' to learn more about interactive tables.';\n",
              "          element.innerHTML = '';\n",
              "          dataTable['output_type'] = 'display_data';\n",
              "          await google.colab.output.renderOutput(dataTable, element);\n",
              "          const docLink = document.createElement('div');\n",
              "          docLink.innerHTML = docLinkHtml;\n",
              "          element.appendChild(docLink);\n",
              "        }\n",
              "      </script>\n",
              "    </div>\n",
              "  </div>\n",
              "  "
            ]
          },
          "metadata": {},
          "execution_count": 77
        }
      ],
      "source": [
        "from tkinter import X\n",
        "import numpy as np\n",
        "import pandas as pd\n",
        "\n",
        "from sklearn import datasets, linear_model\n",
        "import matplotlib.pyplot as plt\n",
        "\n",
        "datos=pd.read_csv('Daily_Demand_Forecasting_Orders.csv')\n",
        "cda = datos[['NU_order','Urgent_order','Order_type_B','Target']]\n",
        "datos.head()\n",
        "\n",
        "#datos.describe()\n",
        "cda.head(9)"
      ]
    },
    {
      "cell_type": "code",
      "execution_count": null,
      "metadata": {
        "id": "Dkh53bQawvCg"
      },
      "outputs": [],
      "source": [
        "#data.info()\n",
        "#data.describe()\n",
        "#datos.head(9)\n",
        "#data.mode(1,2)\n",
        "#data['o-rings'].value_counts().plot(kind='pie', autopct='%.2f', figsize=(7, 7), title= 'FSO')"
      ]
    },
    {
      "cell_type": "code",
      "source": [
        "plt.scatter(cda.NU_order, cda.Target, color = \"yellow\")\n",
        "plt.xlabel(\"NU-order\")\n",
        "plt.ylabel(\"price\")\n",
        "plt.show()"
      ],
      "metadata": {
        "colab": {
          "base_uri": "https://localhost:8080/",
          "height": 279
        },
        "id": "HX6Hx1c_wE3j",
        "outputId": "c85395c2-9ba7-4a96-cb17-d9f81f81a8d4"
      },
      "execution_count": 78,
      "outputs": [
        {
          "output_type": "display_data",
          "data": {
            "text/plain": [
              "<Figure size 432x288 with 1 Axes>"
            ],
            "image/png": "[encoded data removed]"
          },
          "metadata": {
            "needs_background": "light"
          }
        }
      ]
    },
    {
      "cell_type": "code",
      "source": [
        "plt.scatter(cda.Urgent_order, cda.Target, color = \"yellow\")\n",
        "plt.xlabel(\"Urgent_order\")\n",
        "plt.ylabel(\"target\")\n",
        "plt.show()"
      ],
      "metadata": {
        "colab": {
          "base_uri": "https://localhost:8080/",
          "height": 280
        },
        "id": "8duIEC0uyZhG",
        "outputId": "213a9d8a-b603-4166-8e1b-d7b42e6fa9bc"
      },
      "execution_count": 79,
      "outputs": [
        {
          "output_type": "display_data",
          "data": {
            "text/plain": [
              "<Figure size 432x288 with 1 Axes>"
            ],
            "image/png": "[encoded data removed]"
          },
          "metadata": {
            "needs_background": "light"
          }
        }
      ]
    },
    {
      "cell_type": "code",
      "source": [
        "plt.scatter(cda.Order_type_B, cda.Target, color = \"yellow\")\n",
        "plt.xlabel(\"Orden tipo b\")\n",
        "plt.ylabel(\"Target\")\n",
        "plt.show()"
      ],
      "metadata": {
        "colab": {
          "base_uri": "https://localhost:8080/",
          "height": 279
        },
        "id": "a1MbrFGIyjaE",
        "outputId": "0c0ccf36-6e0b-4b6f-d024-412a283a4ef3"
      },
      "execution_count": 80,
      "outputs": [
        {
          "output_type": "display_data",
          "data": {
            "text/plain": [
              "<Figure size 432x288 with 1 Axes>"
            ],
            "image/png": "[encoded data removed]"
          },
          "metadata": {
            "needs_background": "light"
          }
        }
      ]
    },
    {
      "cell_type": "code",
      "source": [],
      "metadata": {
        "id": "1WYS6C5cHgYZ"
      },
      "execution_count": null,
      "outputs": []
    },
    {
      "cell_type": "code",
      "source": [
        "msk = np.random.rand(len(datos)) < 0.8\n",
        "entreno = cda[msk]\n",
        "test = cda[~msk]"
      ],
      "metadata": {
        "id": "_fEVv2Ch4RQO"
      },
      "execution_count": 81,
      "outputs": []
    },
    {
      "cell_type": "markdown",
      "source": [],
      "metadata": {
        "id": "Kxq4IoYh8ugO"
      }
    },
    {
      "cell_type": "code",
      "source": [
        "from sklearn import linear_model\n",
        "regr = linear_model.LinearRegression()\n",
        "x = np.asanyarray(entreno[['NU_order','Urgent_order','Order_type_B']])\n",
        "y = np.asanyarray(entreno[['Target']])\n",
        "regr.fit(x,y)\n"
      ],
      "metadata": {
        "id": "E9XitiI7y_x2",
        "colab": {
          "base_uri": "https://localhost:8080/"
        },
        "outputId": "a9260f60-6636-4acd-d9b9-6f5f3f52342c"
      },
      "execution_count": 82,
      "outputs": [
        {
          "output_type": "execute_result",
          "data": {
            "text/plain": [
              "LinearRegression()"
            ]
          },
          "metadata": {},
          "execution_count": 82
        }
      ]
    },
    {
      "cell_type": "markdown",
      "source": [],
      "metadata": {
        "id": "3467_FBh7uM-"
      }
    },
    {
      "cell_type": "code",
      "source": [
        "print(\"Coeficientes:\", regr.coef_)"
      ],
      "metadata": {
        "colab": {
          "base_uri": "https://localhost:8080/"
        },
        "id": "g9wV7a5Z5V5W",
        "outputId": "4810e4a7-b2f4-4f13-bad1-adb88b7ab385"
      },
      "execution_count": 83,
      "outputs": [
        {
          "output_type": "stream",
          "name": "stdout",
          "text": [
            "Coeficientes: [[0.59761391 0.86954826 0.68673404]]\n"
          ]
        }
      ]
    },
    {
      "cell_type": "code",
      "source": [
        "y_hat = regr.predict(test[['NU_order','Urgent_order','Order_type_B']])\n",
        "x = np.asanyarray(test[['NU_order','Urgent_order','Order_type_B']])\n",
        "y = np.asanyarray(test[['Target']])\n",
        "print(\"Suma residual de Cuadrados: %.2f\"\n",
        "% np.mean((y_hat - y) ** 2))"
      ],
      "metadata": {
        "colab": {
          "base_uri": "https://localhost:8080/"
        },
        "id": "w7DsCppt8llG",
        "outputId": "9d6d8969-1c94-4564-eed8-e1e94001c81c"
      },
      "execution_count": 84,
      "outputs": [
        {
          "output_type": "stream",
          "name": "stdout",
          "text": [
            "Suma residual de Cuadrados: 109.29\n"
          ]
        },
        {
          "output_type": "stream",
          "name": "stderr",
          "text": [
            "/usr/local/lib/python3.7/dist-packages/sklearn/base.py:444: UserWarning: X has feature names, but LinearRegression was fitted without feature names\n",
            "  f\"X has feature names, but {self.__class__.__name__} was fitted without\"\n"
          ]
        }
      ]
    },
    {
      "cell_type": "code",
      "source": [
        "print(\"Varianza modelo: %.2f\" % regr.score(x,y))"
      ],
      "metadata": {
        "colab": {
          "base_uri": "https://localhost:8080/"
        },
        "id": "wfcngXnh--Cl",
        "outputId": "4e96de75-b219-449e-e6b9-cbc7706e3366"
      },
      "execution_count": 85,
      "outputs": [
        {
          "output_type": "stream",
          "name": "stdout",
          "text": [
            "Varianza modelo: 0.95\n"
          ]
        }
      ]
    },
    {
      "cell_type": "markdown",
      "source": [],
      "metadata": {
        "id": "nbnrDmPp8lWO"
      }
    },
    {
      "cell_type": "code",
      "source": [
        "print(datos.corr())"
      ],
      "metadata": {
        "colab": {
          "base_uri": "https://localhost:8080/"
        },
        "id": "MRLsW85j7RcY",
        "outputId": "9bf8a11a-f9ca-4a8d-e4d5-8f0012d1a080"
      },
      "execution_count": 86,
      "outputs": [
        {
          "output_type": "stream",
          "name": "stdout",
          "text": [
            "                   WoM  NU_order  Urgent_order  Order_type_A  Order_type_B  \\\n",
            "WoM           1.000000 -0.416331     -0.517106     -0.068894     -0.376512   \n",
            "NU_order     -0.416331  1.000000      0.564796      0.561397      0.827186   \n",
            "Urgent_order -0.517106  0.564796      1.000000      0.412817      0.508929   \n",
            "Order_type_A -0.068894  0.561397      0.412817      1.000000      0.438734   \n",
            "Order_type_B -0.376512  0.827186      0.508929      0.438734      1.000000   \n",
            "Order_type_C -0.448823  0.752627      0.767155      0.218651      0.523598   \n",
            "FSO          -0.132397 -0.057150     -0.011452      0.064525     -0.122432   \n",
            "OFTRCS       -0.339485  0.246937      0.242268     -0.151762      0.127111   \n",
            "B(1)         -0.051815  0.732357      0.230618      0.675328      0.592845   \n",
            "B(2)         -0.577035  0.788192      0.660868      0.294374      0.713674   \n",
            "B(3)         -0.012251  0.132857      0.031260      0.230369      0.067325   \n",
            "Target       -0.435286  0.934518      0.729785      0.559735      0.900673   \n",
            "\n",
            "              Order_type_C       FSO    OFTRCS      B(1)      B(2)      B(3)  \\\n",
            "WoM              -0.448823 -0.132397 -0.339485 -0.051815 -0.577035 -0.012251   \n",
            "NU_order          0.752627 -0.057150  0.246937  0.732357  0.788192  0.132857   \n",
            "Urgent_order      0.767155 -0.011452  0.242268  0.230618  0.660868  0.031260   \n",
            "Order_type_A      0.218651  0.064525 -0.151762  0.675328  0.294374  0.230369   \n",
            "Order_type_B      0.523598 -0.122432  0.127111  0.592845  0.713674  0.067325   \n",
            "Order_type_C      1.000000  0.007906  0.442404  0.330186  0.718739  0.031053   \n",
            "FSO               0.007906  1.000000  0.197670  0.003523 -0.055066  0.294567   \n",
            "OFTRCS            0.442404  0.197670  1.000000 -0.162309  0.240450  0.231614   \n",
            "B(1)              0.330186  0.003523 -0.162309  1.000000  0.262905  0.221335   \n",
            "B(2)              0.718739 -0.055066  0.240450  0.262905  1.000000 -0.108797   \n",
            "B(3)              0.031053  0.294567  0.231614  0.221335 -0.108797  1.000000   \n",
            "Target            0.804984 -0.052116  0.244712  0.630365  0.798447  0.100901   \n",
            "\n",
            "                Target  \n",
            "WoM          -0.435286  \n",
            "NU_order      0.934518  \n",
            "Urgent_order  0.729785  \n",
            "Order_type_A  0.559735  \n",
            "Order_type_B  0.900673  \n",
            "Order_type_C  0.804984  \n",
            "FSO          -0.052116  \n",
            "OFTRCS        0.244712  \n",
            "B(1)          0.630365  \n",
            "B(2)          0.798447  \n",
            "B(3)          0.100901  \n",
            "Target        1.000000  \n"
          ]
        }
      ]
    },
    {
      "cell_type": "code",
      "source": [
        "from matplotlib import pyplot             # Permite la generación de gráficos\n",
        "from mpl_toolkits.mplot3d import Axes3D   # Permite agregar eje tridimensionales\n",
        "import random                             # Permiten obtener de distintos modos números aleatorios\n",
        "\n",
        "fig = pyplot.figure(figsize=(8, 6))       # Ajustes del gráfico\n",
        "ax = Axes3D(fig)\n",
        "\n",
        "x1 = data[\"Pregnancies\"]                         # Datos eje X\n",
        "x2 = data[\"Glucose\"]                             # Datos eje Y\n",
        "y = data[\"Outcome\"]                              # Datos eje Z (Var. Respuesta)\n",
        "\n",
        "ax.scatter(x1, x2, y, marker='*', c='r')\n",
        "ax.set_xlabel('Embarazo')        # Etiqueta del eje X\n",
        "ax.set_ylabel('Glocusa')       # Etiqueta del eje Y\n",
        "ax.set_zlabel('Salida');  "
      ],
      "metadata": {
        "colab": {
          "base_uri": "https://localhost:8080/",
          "height": 463
        },
        "id": "tBnOmDDkxmKn",
        "outputId": "1e93c52f-2e5f-4928-cb46-6b1e6513e21f"
      },
      "execution_count": null,
      "outputs": [
        {
          "output_type": "display_data",
          "data": {
            "text/plain": [
              "<Figure size 576x432 with 1 Axes>"
            ],
            "image/png": "[encoded data removed]"
          },
          "metadata": {
            "needs_background": "light"
          }
        }
      ]
    },
    {
      "cell_type": "code",
      "execution_count": null,
      "metadata": {
        "colab": {
          "base_uri": "https://localhost:8080/",
          "height": 332
        },
        "id": "paLZ4iXhwvCh",
        "outputId": "0203af3b-7975-4163-f513-4757bf2dc88f"
      },
      "outputs": [
        {
          "output_type": "execute_result",
          "data": {
            "text/plain": [
              "                          Pregnancies   Glucose  BloodPressure  SkinThickness  \\\n",
              "Pregnancies                  1.000000  0.129459       0.141282      -0.081672   \n",
              "Glucose                      0.129459  1.000000       0.152590       0.057328   \n",
              "BloodPressure                0.141282  0.152590       1.000000       0.207371   \n",
              "SkinThickness               -0.081672  0.057328       0.207371       1.000000   \n",
              "Insulin                     -0.073535  0.331357       0.088933       0.436783   \n",
              "BMI                          0.017683  0.221071       0.281805       0.392573   \n",
              "DiabetesPedigreeFunction    -0.033523  0.137337       0.041265       0.183928   \n",
              "Age                          0.544341  0.263514       0.239528      -0.113970   \n",
              "Outcome                      0.221898  0.466581       0.065068       0.074752   \n",
              "\n",
              "                           Insulin       BMI  DiabetesPedigreeFunction  \\\n",
              "Pregnancies              -0.073535  0.017683                 -0.033523   \n",
              "Glucose                   0.331357  0.221071                  0.137337   \n",
              "BloodPressure             0.088933  0.281805                  0.041265   \n",
              "SkinThickness             0.436783  0.392573                  0.183928   \n",
              "Insulin                   1.000000  0.197859                  0.185071   \n",
              "BMI                       0.197859  1.000000                  0.140647   \n",
              "DiabetesPedigreeFunction  0.185071  0.140647                  1.000000   \n",
              "Age                      -0.042163  0.036242                  0.033561   \n",
              "Outcome                   0.130548  0.292695                  0.173844   \n",
              "\n",
              "                               Age   Outcome  \n",
              "Pregnancies               0.544341  0.221898  \n",
              "Glucose                   0.263514  0.466581  \n",
              "BloodPressure             0.239528  0.065068  \n",
              "SkinThickness            -0.113970  0.074752  \n",
              "Insulin                  -0.042163  0.130548  \n",
              "BMI                       0.036242  0.292695  \n",
              "DiabetesPedigreeFunction  0.033561  0.173844  \n",
              "Age                       1.000000  0.238356  \n",
              "Outcome                   0.238356  1.000000  "
            ],
            "text/html": [
              "\n",
              "  <div id=\"df-2edb396e-9797-464c-91ab-9c7a34229e41\">\n",
              "    <div class=\"colab-df-container\">\n",
              "      <div>\n",
              "<style scoped>\n",
              "    .dataframe tbody tr th:only-of-type {\n",
              "        vertical-align: middle;\n",
              "    }\n",
              "\n",
              "    .dataframe tbody tr th {\n",
              "        vertical-align: top;\n",
              "    }\n",
              "\n",
              "    .dataframe thead th {\n",
              "        text-align: right;\n",
              "    }\n",
              "</style>\n",
              "<table border=\"1\" class=\"dataframe\">\n",
              "  <thead>\n",
              "    <tr style=\"text-align: right;\">\n",
              "      <th></th>\n",
              "      <th>Pregnancies</th>\n",
              "      <th>Glucose</th>\n",
              "      <th>BloodPressure</th>\n",
              "      <th>SkinThickness</th>\n",
              "      <th>Insulin</th>\n",
              "      <th>BMI</th>\n",
              "      <th>DiabetesPedigreeFunction</th>\n",
              "      <th>Age</th>\n",
              "      <th>Outcome</th>\n",
              "    </tr>\n",
              "  </thead>\n",
              "  <tbody>\n",
              "    <tr>\n",
              "      <th>Pregnancies</th>\n",
              "      <td>1.000000</td>\n",
              "      <td>0.129459</td>\n",
              "      <td>0.141282</td>\n",
              "      <td>-0.081672</td>\n",
              "      <td>-0.073535</td>\n",
              "      <td>0.017683</td>\n",
              "      <td>-0.033523</td>\n",
              "      <td>0.544341</td>\n",
              "      <td>0.221898</td>\n",
              "    </tr>\n",
              "    <tr>\n",
              "      <th>Glucose</th>\n",
              "      <td>0.129459</td>\n",
              "      <td>1.000000</td>\n",
              "      <td>0.152590</td>\n",
              "      <td>0.057328</td>\n",
              "      <td>0.331357</td>\n",
              "      <td>0.221071</td>\n",
              "      <td>0.137337</td>\n",
              "      <td>0.263514</td>\n",
              "      <td>0.466581</td>\n",
              "    </tr>\n",
              "    <tr>\n",
              "      <th>BloodPressure</th>\n",
              "      <td>0.141282</td>\n",
              "      <td>0.152590</td>\n",
              "      <td>1.000000</td>\n",
              "      <td>0.207371</td>\n",
              "      <td>0.088933</td>\n",
              "      <td>0.281805</td>\n",
              "      <td>0.041265</td>\n",
              "      <td>0.239528</td>\n",
              "      <td>0.065068</td>\n",
              "    </tr>\n",
              "    <tr>\n",
              "      <th>SkinThickness</th>\n",
              "      <td>-0.081672</td>\n",
              "      <td>0.057328</td>\n",
              "      <td>0.207371</td>\n",
              "      <td>1.000000</td>\n",
              "      <td>0.436783</td>\n",
              "      <td>0.392573</td>\n",
              "      <td>0.183928</td>\n",
              "      <td>-0.113970</td>\n",
              "      <td>0.074752</td>\n",
              "    </tr>\n",
              "    <tr>\n",
              "      <th>Insulin</th>\n",
              "      <td>-0.073535</td>\n",
              "      <td>0.331357</td>\n",
              "      <td>0.088933</td>\n",
              "      <td>0.436783</td>\n",
              "      <td>1.000000</td>\n",
              "      <td>0.197859</td>\n",
              "      <td>0.185071</td>\n",
              "      <td>-0.042163</td>\n",
              "      <td>0.130548</td>\n",
              "    </tr>\n",
              "    <tr>\n",
              "      <th>BMI</th>\n",
              "      <td>0.017683</td>\n",
              "      <td>0.221071</td>\n",
              "      <td>0.281805</td>\n",
              "      <td>0.392573</td>\n",
              "      <td>0.197859</td>\n",
              "      <td>1.000000</td>\n",
              "      <td>0.140647</td>\n",
              "      <td>0.036242</td>\n",
              "      <td>0.292695</td>\n",
              "    </tr>\n",
              "    <tr>\n",
              "      <th>DiabetesPedigreeFunction</th>\n",
              "      <td>-0.033523</td>\n",
              "      <td>0.137337</td>\n",
              "      <td>0.041265</td>\n",
              "      <td>0.183928</td>\n",
              "      <td>0.185071</td>\n",
              "      <td>0.140647</td>\n",
              "      <td>1.000000</td>\n",
              "      <td>0.033561</td>\n",
              "      <td>0.173844</td>\n",
              "    </tr>\n",
              "    <tr>\n",
              "      <th>Age</th>\n",
              "      <td>0.544341</td>\n",
              "      <td>0.263514</td>\n",
              "      <td>0.239528</td>\n",
              "      <td>-0.113970</td>\n",
              "      <td>-0.042163</td>\n",
              "      <td>0.036242</td>\n",
              "      <td>0.033561</td>\n",
              "      <td>1.000000</td>\n",
              "      <td>0.238356</td>\n",
              "    </tr>\n",
              "    <tr>\n",
              "      <th>Outcome</th>\n",
              "      <td>0.221898</td>\n",
              "      <td>0.466581</td>\n",
              "      <td>0.065068</td>\n",
              "      <td>0.074752</td>\n",
              "      <td>0.130548</td>\n",
              "      <td>0.292695</td>\n",
              "      <td>0.173844</td>\n",
              "      <td>0.238356</td>\n",
              "      <td>1.000000</td>\n",
              "    </tr>\n",
              "  </tbody>\n",
              "</table>\n",
              "</div>\n",
              "      <button class=\"colab-df-convert\" onclick=\"convertToInteractive('df-2edb396e-9797-464c-91ab-9c7a34229e41')\"\n",
              "              title=\"Convert this dataframe to an interactive table.\"\n",
              "              style=\"display:none;\">\n",
              "        \n",
              "  <svg xmlns=\"http://www.w3.org/2000/svg\" height=\"24px\"viewBox=\"0 0 24 24\"\n",
              "       width=\"24px\">\n",
              "    <path d=\"M0 0h24v24H0V0z\" fill=\"none\"/>\n",
              "    <path d=\"M18.56 5.44l.94 2.06.94-2.06 2.06-.94-2.06-.94-.94-2.06-.94 2.06-2.06.94zm-11 1L8.5 8.5l.94-2.06 2.06-.94-2.06-.94L8.5 2.5l-.94 2.06-2.06.94zm10 10l.94 2.06.94-2.06 2.06-.94-2.06-.94-.94-2.06-.94 2.06-2.06.94z\"/><path d=\"M17.41 7.96l-1.37-1.37c-.4-.4-.92-.59-1.43-.59-.52 0-1.04.2-1.43.59L10.3 9.45l-7.72 7.72c-.78.78-.78 2.05 0 2.83L4 21.41c.39.39.9.59 1.41.59.51 0 1.02-.2 1.41-.59l7.78-7.78 2.81-2.81c.8-.78.8-2.07 0-2.86zM5.41 20L4 18.59l7.72-7.72 1.47 1.35L5.41 20z\"/>\n",
              "  </svg>\n",
              "      </button>\n",
              "      \n",
              "  <style>\n",
              "    .colab-df-container {\n",
              "      display:flex;\n",
              "      flex-wrap:wrap;\n",
              "      gap: 12px;\n",
              "    }\n",
              "\n",
              "    .colab-df-convert {\n",
              "      background-color: #E8F0FE;\n",
              "      border: none;\n",
              "      border-radius: 50%;\n",
              "      cursor: pointer;\n",
              "      display: none;\n",
              "      fill: #1967D2;\n",
              "      height: 32px;\n",
              "      padding: 0 0 0 0;\n",
              "      width: 32px;\n",
              "    }\n",
              "\n",
              "    .colab-df-convert:hover {\n",
              "      background-color: #E2EBFA;\n",
              "      box-shadow: 0px 1px 2px rgba(60, 64, 67, 0.3), 0px 1px 3px 1px rgba(60, 64, 67, 0.15);\n",
              "      fill: #174EA6;\n",
              "    }\n",
              "\n",
              "    [theme=dark] .colab-df-convert {\n",
              "      background-color: #3B4455;\n",
              "      fill: #D2E3FC;\n",
              "    }\n",
              "\n",
              "    [theme=dark] .colab-df-convert:hover {\n",
              "      background-color: #434B5C;\n",
              "      box-shadow: 0px 1px 3px 1px rgba(0, 0, 0, 0.15);\n",
              "      filter: drop-shadow(0px 1px 2px rgba(0, 0, 0, 0.3));\n",
              "      fill: #FFFFFF;\n",
              "    }\n",
              "  </style>\n",
              "\n",
              "      <script>\n",
              "        const buttonEl =\n",
              "          document.querySelector('#df-2edb396e-9797-464c-91ab-9c7a34229e41 button.colab-df-convert');\n",
              "        buttonEl.style.display =\n",
              "          google.colab.kernel.accessAllowed ? 'block' : 'none';\n",
              "\n",
              "        async function convertToInteractive(key) {\n",
              "          const element = document.querySelector('#df-2edb396e-9797-464c-91ab-9c7a34229e41');\n",
              "          const dataTable =\n",
              "            await google.colab.kernel.invokeFunction('convertToInteractive',\n",
              "                                                     [key], {});\n",
              "          if (!dataTable) return;\n",
              "\n",
              "          const docLinkHtml = 'Like what you see? Visit the ' +\n",
              "            '<a target=\"_blank\" href=https://colab.research.google.com/notebooks/data_table.ipynb>data table notebook</a>'\n",
              "            + ' to learn more about interactive tables.';\n",
              "          element.innerHTML = '';\n",
              "          dataTable['output_type'] = 'display_data';\n",
              "          await google.colab.output.renderOutput(dataTable, element);\n",
              "          const docLink = document.createElement('div');\n",
              "          docLink.innerHTML = docLinkHtml;\n",
              "          element.appendChild(docLink);\n",
              "        }\n",
              "      </script>\n",
              "    </div>\n",
              "  </div>\n",
              "  "
            ]
          },
          "metadata": {},
          "execution_count": 54
        }
      ],
      "source": [
        "data.corr()"
      ]
    },
    {
      "cell_type": "code",
      "source": [
        "data.keys()\n",
        "data.Pregnancies"
      ],
      "metadata": {
        "colab": {
          "base_uri": "https://localhost:8080/"
        },
        "id": "PbC9YJPY3ZLj",
        "outputId": "ffe09028-75b1-4c0e-8dfb-34a5b0cab322"
      },
      "execution_count": null,
      "outputs": [
        {
          "output_type": "execute_result",
          "data": {
            "text/plain": [
              "0       6\n",
              "1       1\n",
              "2       8\n",
              "3       1\n",
              "4       0\n",
              "       ..\n",
              "763    10\n",
              "764     2\n",
              "765     5\n",
              "766     1\n",
              "767     1\n",
              "Name: Pregnancies, Length: 768, dtype: int64"
            ]
          },
          "metadata": {},
          "execution_count": 88
        }
      ]
    },
    {
      "cell_type": "code",
      "execution_count": null,
      "metadata": {
        "id": "-h8akM05wvCh",
        "outputId": "35f83af5-b0a2-4699-c356-c99ddbdf74c5"
      },
      "outputs": [
        {
          "name": "stdout",
          "output_type": "stream",
          "text": [
            "                   WoM  NU-order  Urgent order  Order type A  Order type B  \\\n",
            "WoM           1.000000 -0.416331     -0.517106     -0.068894     -0.376512   \n",
            "NU-order     -0.416331  1.000000      0.564796      0.561397      0.827186   \n",
            "Urgent order -0.517106  0.564796      1.000000      0.412817      0.508929   \n",
            "Order type A -0.068894  0.561397      0.412817      1.000000      0.438734   \n",
            "Order type B -0.376512  0.827186      0.508929      0.438734      1.000000   \n",
            "Order type C -0.448823  0.752627      0.767155      0.218651      0.523598   \n",
            "FSO          -0.132397 -0.057150     -0.011452      0.064525     -0.122432   \n",
            "OFTRCS       -0.339485  0.246937      0.242268     -0.151762      0.127111   \n",
            "B(1)         -0.051815  0.732357      0.230618      0.675328      0.592845   \n",
            "B(2)         -0.577035  0.788192      0.660868      0.294374      0.713674   \n",
            "B(3)         -0.012251  0.132857      0.031260      0.230369      0.067325   \n",
            "Target       -0.435286  0.934518      0.729785      0.559735      0.900673   \n",
            "\n",
            "              Order type C       FSO    OFTRCS      B(1)      B(2)      B(3)  \\\n",
            "WoM              -0.448823 -0.132397 -0.339485 -0.051815 -0.577035 -0.012251   \n",
            "NU-order          0.752627 -0.057150  0.246937  0.732357  0.788192  0.132857   \n",
            "Urgent order      0.767155 -0.011452  0.242268  0.230618  0.660868  0.031260   \n",
            "Order type A      0.218651  0.064525 -0.151762  0.675328  0.294374  0.230369   \n",
            "Order type B      0.523598 -0.122432  0.127111  0.592845  0.713674  0.067325   \n",
            "Order type C      1.000000  0.007906  0.442404  0.330186  0.718739  0.031053   \n",
            "FSO               0.007906  1.000000  0.197670  0.003523 -0.055066  0.294567   \n",
            "OFTRCS            0.442404  0.197670  1.000000 -0.162309  0.240450  0.231614   \n",
            "B(1)              0.330186  0.003523 -0.162309  1.000000  0.262905  0.221335   \n",
            "B(2)              0.718739 -0.055066  0.240450  0.262905  1.000000 -0.108797   \n",
            "B(3)              0.031053  0.294567  0.231614  0.221335 -0.108797  1.000000   \n",
            "Target            0.804984 -0.052116  0.244712  0.630365  0.798447  0.100901   \n",
            "\n",
            "                Target  \n",
            "WoM          -0.435286  \n",
            "NU-order      0.934518  \n",
            "Urgent order  0.729785  \n",
            "Order type A  0.559735  \n",
            "Order type B  0.900673  \n",
            "Order type C  0.804984  \n",
            "FSO          -0.052116  \n",
            "OFTRCS        0.244712  \n",
            "B(1)          0.630365  \n",
            "B(2)          0.798447  \n",
            "B(3)          0.100901  \n",
            "Target        1.000000  \n"
          ]
        }
      ],
      "source": [
        "X = data['NU-order'].values.reshape(-1,1)\n",
        "X2 = data['Order type A'].values.reshape(-1,1) #colocada por mi\n",
        "y = data['Target'].values.reshape(-1,1)\n",
        "\n",
        "## preparar los datos de entrenamiento y prueba\n",
        "from sklearn.model_selection import train_test_split\n",
        "X_train, X_test, y_train, y_test=train_test_split(X, y, test_size=0.2)\n",
        "## crear el objeto lr de tipo regresion lineal\n",
        "lr=linear_model.LinearRegression()\n",
        "\n",
        "## mostrar el resultado de la correlacion \n",
        "print(data.corr())\n"
      ]
    },
    {
      "cell_type": "code",
      "execution_count": null,
      "metadata": {
        "id": "wDrwHd3vwvCi",
        "outputId": "ccd2b63a-bd4c-451c-b994-8f0fb6c0a18d"
      },
      "outputs": [
        {
          "name": "stdout",
          "output_type": "stream",
          "text": [
            "el valor de la pendiente es [[1.16412921]]\n",
            "el valor de la b es [95.03796108]\n"
          ]
        }
      ],
      "source": [
        "#entrenar X_train y y_train\n",
        "lr.fit(X_train ,y_train)\n",
        "y_predict=lr.predict(X_test)\n",
        "\n",
        "valor_b=lr.coef_\n",
        "valor_a=lr.intercept_\n",
        "print(\"el valor de la pendiente es \"+str(lr.coef_))\n",
        "print(\"el valor de la b es \"+str(lr.intercept_))"
      ]
    },
    {
      "cell_type": "code",
      "execution_count": null,
      "metadata": {
        "id": "n6YFjb7BwvCi"
      },
      "outputs": [],
      "source": [
        "# vector a graficar\n",
        "yy=valor_a+(valor_b*X)\n",
        "# comando para graficar\n",
        "#plt.scatter(X, y,  color='gray')\n",
        "#plt.title(\"Resultados\")\n",
        "#plt.plot(X,yy)\n",
        "#plt.show()"
      ]
    },
    {
      "cell_type": "code",
      "execution_count": null,
      "metadata": {
        "id": "2iTBfDQ7wvCi",
        "outputId": "98547171-1880-40cb-92b9-6c3055c5b80a"
      },
      "outputs": [
        {
          "name": "stdout",
          "output_type": "stream",
          "text": [
            "103\n",
            "0.8957764327042695\n"
          ]
        }
      ],
      "source": [
        "valor_predecir = lr.predict([[7]])\n",
        "print(int(valor_predecir))\n",
        "##puntuacion\n",
        "print(lr.score(X_train, y_train))"
      ]
    }
  ],
  "metadata": {
    "colab": {
      "provenance": [],
      "include_colab_link": true
    },
    "kernelspec": {
      "display_name": "Python 3.8.0 32-bit",
      "language": "python",
      "name": "python3"
    },
    "language_info": {
      "codemirror_mode": {
        "name": "ipython",
        "version": 3
      },
      "file_extension": ".py",
      "mimetype": "text/x-python",
      "name": "python",
      "nbconvert_exporter": "python",
      "pygments_lexer": "ipython3",
      "version": "3.8.0"
    },
    "vscode": {
      "interpreter": {
        "hash": "fd84881dcac8da5833d02f74e894450b8358ac9ba0ef0f80c0a4b49387b48667"
      }
    }
  },
  "nbformat": 4,
  "nbformat_minor": 0
}